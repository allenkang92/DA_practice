{
 "cells": [
  {
   "cell_type": "code",
   "execution_count": 7,
   "metadata": {},
   "outputs": [
    {
     "data": {
      "text/plain": [
       "'/Users/b-22/DA_practice/DA_practice/Data_Analysis/note'"
      ]
     },
     "execution_count": 7,
     "metadata": {},
     "output_type": "execute_result"
    }
   ],
   "source": [
    "%pwd"
   ]
  },
  {
   "cell_type": "code",
   "execution_count": 2,
   "metadata": {},
   "outputs": [
    {
     "data": {
      "text/plain": [
       "'/Users/b-22/DA_practice/DA_practice/Data_Analysis/note/first'"
      ]
     },
     "execution_count": 2,
     "metadata": {},
     "output_type": "execute_result"
    }
   ],
   "source": [
    "import os\n",
    "os.getcwd()"
   ]
  },
  {
   "cell_type": "code",
   "execution_count": 3,
   "metadata": {},
   "outputs": [],
   "source": [
    "import pandas as pd"
   ]
  },
  {
   "cell_type": "code",
   "execution_count": 6,
   "metadata": {},
   "outputs": [
    {
     "data": {
      "text/plain": [
       "'/Users/b-22/DA_practice/DA_practice/Data_Analysis/note/first'"
      ]
     },
     "execution_count": 6,
     "metadata": {},
     "output_type": "execute_result"
    }
   ],
   "source": [
    "pwd"
   ]
  },
  {
   "cell_type": "code",
   "execution_count": 10,
   "metadata": {},
   "outputs": [],
   "source": [
    "df = pd.read_csv(\"/Users/b-22/DA_practice/DA_practice/data/도로교통공단_월별 주야별 교통사고 통계_20231231.csv\")"
   ]
  },
  {
   "cell_type": "code",
   "execution_count": 36,
   "metadata": {},
   "outputs": [
    {
     "data": {
      "text/html": [
       "<div>\n",
       "<style scoped>\n",
       "    .dataframe tbody tr th:only-of-type {\n",
       "        vertical-align: middle;\n",
       "    }\n",
       "\n",
       "    .dataframe tbody tr th {\n",
       "        vertical-align: top;\n",
       "    }\n",
       "\n",
       "    .dataframe thead th {\n",
       "        text-align: right;\n",
       "    }\n",
       "</style>\n",
       "<table border=\"1\" class=\"dataframe\">\n",
       "  <thead>\n",
       "    <tr style=\"text-align: right;\">\n",
       "      <th></th>\n",
       "      <th>�߻���,�־�,����Ǽ�,����ڼ�,�߻��ڼ�,����ڼ�,�λ�Ű��ڼ�</th>\n",
       "    </tr>\n",
       "  </thead>\n",
       "  <tbody>\n",
       "    <tr>\n",
       "      <th>0</th>\n",
       "      <td>01,��,8682,98,2209,9440,759</td>\n",
       "    </tr>\n",
       "    <tr>\n",
       "      <th>1</th>\n",
       "      <td>01,��,5798,92,1539,6349,530</td>\n",
       "    </tr>\n",
       "    <tr>\n",
       "      <th>2</th>\n",
       "      <td>02,��,8056,95,2149,8710,710</td>\n",
       "    </tr>\n",
       "    <tr>\n",
       "      <th>3</th>\n",
       "      <td>02,��,5228,86,1419,5553,500</td>\n",
       "    </tr>\n",
       "    <tr>\n",
       "      <th>4</th>\n",
       "      <td>03,��,10393,109,2600,11132,880</td>\n",
       "    </tr>\n",
       "    <tr>\n",
       "      <th>5</th>\n",
       "      <td>03,��,5607,78,1449,5930,467</td>\n",
       "    </tr>\n",
       "    <tr>\n",
       "      <th>6</th>\n",
       "      <td>04,��,10460,93,2797,11356,1055</td>\n",
       "    </tr>\n",
       "    <tr>\n",
       "      <th>7</th>\n",
       "      <td>04,��,5876,89,1609,6181,551</td>\n",
       "    </tr>\n",
       "    <tr>\n",
       "      <th>8</th>\n",
       "      <td>05,��,11668,135,3132,12618,1178</td>\n",
       "    </tr>\n",
       "    <tr>\n",
       "      <th>9</th>\n",
       "      <td>05,��,5884,68,1576,6233,603</td>\n",
       "    </tr>\n",
       "    <tr>\n",
       "      <th>10</th>\n",
       "      <td>06,��,10962,114,2881,11797,1092</td>\n",
       "    </tr>\n",
       "    <tr>\n",
       "      <th>11</th>\n",
       "      <td>06,��,5754,88,1601,5893,613</td>\n",
       "    </tr>\n",
       "    <tr>\n",
       "      <th>12</th>\n",
       "      <td>07,��,10647,105,2755,11552,1138</td>\n",
       "    </tr>\n",
       "    <tr>\n",
       "      <th>13</th>\n",
       "      <td>07,��,5931,100,1554,6165,549</td>\n",
       "    </tr>\n",
       "    <tr>\n",
       "      <th>14</th>\n",
       "      <td>08,��,11185,136,2990,12252,1111</td>\n",
       "    </tr>\n",
       "    <tr>\n",
       "      <th>15</th>\n",
       "      <td>08,��,6027,110,1632,6287,641</td>\n",
       "    </tr>\n",
       "    <tr>\n",
       "      <th>16</th>\n",
       "      <td>09,��,11458,130,3063,12396,1119</td>\n",
       "    </tr>\n",
       "    <tr>\n",
       "      <th>17</th>\n",
       "      <td>09,��,6402,109,1777,6559,737</td>\n",
       "    </tr>\n",
       "    <tr>\n",
       "      <th>18</th>\n",
       "      <td>10,��,11039,141,3186,11609,1102</td>\n",
       "    </tr>\n",
       "    <tr>\n",
       "      <th>19</th>\n",
       "      <td>10,��,6294,124,1814,6383,559</td>\n",
       "    </tr>\n",
       "    <tr>\n",
       "      <th>20</th>\n",
       "      <td>11,��,11397,139,3143,12183,1081</td>\n",
       "    </tr>\n",
       "    <tr>\n",
       "      <th>21</th>\n",
       "      <td>11,��,6351,118,1706,6565,620</td>\n",
       "    </tr>\n",
       "    <tr>\n",
       "      <th>22</th>\n",
       "      <td>12,��,10540,107,2691,11407,1003</td>\n",
       "    </tr>\n",
       "    <tr>\n",
       "      <th>23</th>\n",
       "      <td>12,��,6657,87,1717,7019,643</td>\n",
       "    </tr>\n",
       "  </tbody>\n",
       "</table>\n",
       "</div>"
      ],
      "text/plain": [
       "   �߻���,�־�,����Ǽ�,����ڼ�,�߻��ڼ�,����ڼ�,�λ�Ű��ڼ�\n",
       "0                     01,��,8682,98,2209,9440,759\n",
       "1                     01,��,5798,92,1539,6349,530\n",
       "2                     02,��,8056,95,2149,8710,710\n",
       "3                     02,��,5228,86,1419,5553,500\n",
       "4                  03,��,10393,109,2600,11132,880\n",
       "5                     03,��,5607,78,1449,5930,467\n",
       "6                  04,��,10460,93,2797,11356,1055\n",
       "7                     04,��,5876,89,1609,6181,551\n",
       "8                 05,��,11668,135,3132,12618,1178\n",
       "9                     05,��,5884,68,1576,6233,603\n",
       "10                06,��,10962,114,2881,11797,1092\n",
       "11                    06,��,5754,88,1601,5893,613\n",
       "12                07,��,10647,105,2755,11552,1138\n",
       "13                   07,��,5931,100,1554,6165,549\n",
       "14                08,��,11185,136,2990,12252,1111\n",
       "15                   08,��,6027,110,1632,6287,641\n",
       "16                09,��,11458,130,3063,12396,1119\n",
       "17                   09,��,6402,109,1777,6559,737\n",
       "18                10,��,11039,141,3186,11609,1102\n",
       "19                   10,��,6294,124,1814,6383,559\n",
       "20                11,��,11397,139,3143,12183,1081\n",
       "21                   11,��,6351,118,1706,6565,620\n",
       "22                12,��,10540,107,2691,11407,1003\n",
       "23                    12,��,6657,87,1717,7019,643"
      ]
     },
     "execution_count": 36,
     "metadata": {},
     "output_type": "execute_result"
    }
   ],
   "source": [
    "df"
   ]
  },
  {
   "cell_type": "code",
   "execution_count": null,
   "metadata": {},
   "outputs": [],
   "source": []
  }
 ],
 "metadata": {
  "kernelspec": {
   "display_name": "yeardream",
   "language": "python",
   "name": "python3"
  },
  "language_info": {
   "codemirror_mode": {
    "name": "ipython",
    "version": 3
   },
   "file_extension": ".py",
   "mimetype": "text/x-python",
   "name": "python",
   "nbconvert_exporter": "python",
   "pygments_lexer": "ipython3",
   "version": "3.9.19"
  }
 },
 "nbformat": 4,
 "nbformat_minor": 2
}
